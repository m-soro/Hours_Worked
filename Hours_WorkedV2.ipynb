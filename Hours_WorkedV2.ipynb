{
  "nbformat": 4,
  "nbformat_minor": 0,
  "metadata": {
    "colab": {
      "name": "Hours WorkedV2",
      "provenance": [],
      "collapsed_sections": [],
      "mount_file_id": "1Cy4FgA-8tdzJk9aR6U0xPSDAc-gGhCww",
      "authorship_tag": "ABX9TyMnNjGsAjFZ1/R1oqrLBd9r"
    },
    "kernelspec": {
      "name": "python3",
      "display_name": "Python 3"
    },
    "language_info": {
      "name": "python"
    }
  },
  "cells": [
    {
      "cell_type": "markdown",
      "metadata": {
        "id": "kVAAECU8qhF0"
      },
      "source": [
        "# Time Log App\n",
        "<img src='https://encrypted-tbn0.gstatic.com/images?q=tbn:ANd9GcTBepozD0DfuxWa5mS21jkqMOzrlAdwegiBnw&usqp=CAU'>\n",
        "\n",
        ">A google colab notebook, that collects time logged in and logged out with a press of a button.  \n",
        "\n",
        "\n"
      ]
    },
    {
      "cell_type": "code",
      "metadata": {
        "id": "Mqvb1yU2Kbnd",
        "cellView": "form"
      },
      "source": [
        "#@title Log Time { vertical-output: true }\n",
        "import pandas as pd\n",
        "import datetime as dt\n",
        "import pytz\n",
        "import csv\n",
        "\n",
        "current_time = dt.datetime.now(pytz.timezone('America/New_York'))\n",
        "ctime = current_time.strftime(\"%Y-%m-%d, %a, %H:%M\")\n",
        "path = '/content/drive/MyDrive/Mandarin_Folder/hours/'\n",
        "\n",
        "\n",
        "def write_time(in_out,w_or_a):\n",
        "    \n",
        "    if in_out == 'time in':\n",
        "        file = 'timein.csv'\n",
        "    else: \n",
        "        file = 'timeout.csv'\n",
        "    \n",
        "    if w_or_a == 'new':\n",
        "        with open(path + file, 'w') as time_file:\n",
        "            writer = csv.writer(time_file)\n",
        "            writer.writerow([log_type])\n",
        "            writer.writerow([ctime])\n",
        "            print(in_out.upper(),'-->',current_time.strftime('%-I:%M %p'),\" | \", \n",
        "              current_time.strftime('%a'), current_time.strftime('%-m/%-d/%y'), '\\n')\n",
        "    else:\n",
        "        with open(path + file, 'a') as time_file:\n",
        "            writer = csv.writer(time_file)\n",
        "            writer.writerow([ctime])\n",
        "            print(in_out.upper(),'-->',current_time.strftime('%-I:%M %p'),\" | \", \n",
        "              current_time.strftime('%a'), current_time.strftime('%-m/%-d/%y'),'\\n')\n",
        "\n",
        "def readlogs(filename):\n",
        "    df = pd.read_csv(path + filename)\n",
        "    return(len(df))\n",
        "\n",
        "def return_records():\n",
        "    timein = readlogs('timein.csv')\n",
        "    timeout = readlogs('timeout.csv')\n",
        "    return print(\"\\nNo. of Records:\\nlog in:\", timein, \"\\nlog out:\", timeout)\n",
        "\n",
        "def messages():\n",
        "    timein = readlogs('timein.csv')\n",
        "    timeout = readlogs('timeout.csv')\n",
        "    if timein == timeout:\n",
        "        print('\\nAll good, Great job!')\n",
        "    elif timein < timeout: \n",
        "        print('Undo last log out!')\n",
        "    elif timein > timeout+1:\n",
        "        print('Undo Last Log in!')\n",
        "    elif timein > timeout-1:    \n",
        "        print('Don\\'t forget to log out!')  \n",
        "\n",
        "log_type = \"time out\" #@param [\"time in\", \"time out\"]\n",
        "new_or_append = \"append\" #@param [\"append\"]\n",
        "\n",
        "write_time(log_type, new_or_append)\n",
        "messages()\n",
        "return_records()\n"
      ],
      "execution_count": null,
      "outputs": []
    },
    {
      "cell_type": "code",
      "metadata": {
        "id": "U6I74Oy2KkCM",
        "cellView": "form"
      },
      "source": [
        "#@title View DataFrame\n",
        "import pandas as pd\n",
        "\n",
        "path = '/content/drive/MyDrive/Mandarin_Folder/hours/'\n",
        "\n",
        "def csv_to_pandas(file):\n",
        "    \n",
        "    def fix_time(time):\n",
        "        return(time.strftime('%-I:%M %p'))\n",
        "    def return_day(time):\n",
        "        return(time.strftime('%a'))    \n",
        "    def return_date(time):\n",
        "        return(time.strftime('%-m/%-d/%y')) \n",
        "\n",
        "    df = pd.read_csv(file)\n",
        "    df.iloc[:,0] = pd.to_datetime(df.iloc[:,0])\n",
        "    df.drop_duplicates(inplace=True)\n",
        "    \n",
        "    df['date'] = df.iloc[:,0].apply(return_date)\n",
        "    df['day'] = df.iloc[:,0].apply(return_day)\n",
        "    df['time'] = df.iloc[:,0].apply(fix_time)\n",
        "    df = df.iloc[:,1:]\n",
        "    return df\n",
        "\n",
        "def main():\n",
        "    main = pd.concat([csv_to_pandas(path+'timein.csv'), csv_to_pandas(path+'timeout.csv')], axis=1)\n",
        "    main.columns = ['A','B','C','D','E','F']\n",
        "    main = main.drop(['D','E'], axis = 1)\n",
        "    main.columns = ['date', 'day', 'time_in', 'time_out']\n",
        "    main['duration'] = main.time_out.astype('datetime64[ns]') - main.time_in.astype('datetime64[ns]')\n",
        "    main['duration'] = main.duration.astype(str).map(lambda x: x[7:])\n",
        "    return main\n",
        "\n",
        "main()   "
      ],
      "execution_count": null,
      "outputs": []
    },
    {
      "cell_type": "code",
      "metadata": {
        "id": "hGJSrTUDOO4Y",
        "cellView": "form"
      },
      "source": [
        "#@title Undo last log\n",
        "def undo(undo_file):\n",
        "    if undo_file == 'none':\n",
        "        print('Nothing to undo')\n",
        "    else:    \n",
        "        undo_file = undo_file.replace(\" \", '') + '.csv'\n",
        "    \n",
        "        lines = []\n",
        "    \n",
        "        # Parse the file into lines\n",
        "        with open(path + undo_file, 'r') as f:\n",
        "            for line in f:\n",
        "                lines.append(line)\n",
        "\n",
        "        # Write them back to the file\n",
        "        with open(path + undo_file, 'w') as f:\n",
        "            f.writelines(lines[:-1])\n",
        "            print('Removed: ', lines[-1])\n",
        "            \n",
        "undo_log = \"none\" #@param [\"time in\", \"time out\", \"none\"]\n",
        "undo(undo_log)\n",
        "return_records()  \n",
        "messages()   "
      ],
      "execution_count": null,
      "outputs": []
    },
    {
      "cell_type": "code",
      "metadata": {
        "id": "xa8H01U_qcSN",
        "cellView": "form"
      },
      "source": [
        "#@title Edit Time\n",
        "\n",
        "edit_log = \"time in\" #@param [\"time in\", \"time out\"]\n",
        "file = path + edit_log.replace(\" \", '') + '.csv'\n",
        "edit_df = pd.read_csv(file)\n",
        "\n",
        "print('Total records', len(edit_df), '| Index of Records from 0 to', len(edit_df)-1,'\\n')\n",
        "\n",
        "def proceed_edit(index_to_edit, edit_time,time_edit):\n",
        "    \n",
        "    index_to_edit =  0#@param {type:\"number\"}\n",
        "    edit_time = \"no\" #@param [\"yes\", \"no\"]\n",
        "    time_edit = \"2021-10-16, Sat, 07:29\" #@param {type:\"string\"}    \n",
        "    print('Edit this entry? --->',edit_df.iloc[index_to_edit].values[0])\n",
        "\n",
        "    if edit_time == 'yes':\n",
        "        edit_df.iat[index_to_edit,0] = time_edit\n",
        "        print('\\nSUCCESS! Edited to -->', edit_df.iat[index_to_edit,0])\n",
        "    else:\n",
        "        print('\\nNo edits made')     \n",
        "\n",
        "    edit_df.to_csv(path + edit_log.replace(\" \", '') + '.csv', index=False)\n",
        "\n",
        "proceed_edit(index_to_edit, edit_time,time_edit)"
      ],
      "execution_count": null,
      "outputs": []
    },
    {
      "cell_type": "code",
      "metadata": {
        "id": "Z_FME4NWXRoa",
        "cellView": "form"
      },
      "source": [
        "#@title View Records\n",
        "return_records()\n",
        "print(' ')    \n",
        "messages()"
      ],
      "execution_count": null,
      "outputs": []
    },
    {
      "cell_type": "code",
      "metadata": {
        "id": "glbe7Lpj0JHU",
        "cellView": "form"
      },
      "source": [
        "#@title Analyze Hours\n",
        "from google.colab import auth\n",
        "auth.authenticate_user()\n",
        "\n",
        "import gspread\n",
        "from oauth2client.client import GoogleCredentials\n",
        "\n",
        "gc = gspread.authorize(GoogleCredentials.get_application_default())\n",
        "\n",
        "worksheet = gc.open('hours').sheet1\n",
        "\n",
        "# get_all_values gives a list of rows.\n",
        "rows = worksheet.get_all_values()\n",
        "\n",
        "# Convert to a DataFrame and render.\n",
        "import pandas as pd\n",
        "gsheet = pd.DataFrame.from_records(rows)\n",
        "\n",
        "new_header = gsheet.iloc[0] #grab the first row for the header\n",
        "gsheet = gsheet[1:] #take the data less the header row\n",
        "gsheet.columns = new_header\n",
        "gsheet = gsheet.iloc[:, :-2]\n",
        "columns_titles = [\"Day\",\"Date\",\"In\",\"Out\", \"Hours\"]\n",
        "gsheet = gsheet.reindex(columns=columns_titles)\n",
        "gsheet.columns = ['day','date','time_in','time_out','duration']\n",
        "gsheet['day'] = gsheet['day'].str.rstrip()\n",
        "\n",
        "main2 = pd.concat([gsheet, main()], axis=0)\n",
        "main2['date'] = pd.to_datetime(main2['date'])\n",
        "\n",
        "time = pd.DatetimeIndex(main2['duration'])\n",
        "main2['mins'] = time.hour * 60 + time.minute\n",
        "\n",
        "main2['day_num'] = main2['date'].dt.isocalendar().day\n",
        "main2['week_num'] = main2['date'].dt.isocalendar().week"
      ],
      "execution_count": null,
      "outputs": []
    },
    {
      "cell_type": "code",
      "metadata": {
        "id": "ursVB90Eha0Z"
      },
      "source": [
        "#@title Back up to Excel and CSV { display-mode: \"form\" }\n",
        "try:\n",
        "    import xlsxwriter\n",
        "    from google.colab import files\n",
        "except:\n",
        "    !pip install xlsxwriter\n",
        "    \n",
        "writer = pd.ExcelWriter(path+\"main_hours.xlsx\", engine='xlsxwriter')\n",
        "main2.to_excel(writer,sheet_name = \"timelog.xlsx\", index=False)\n",
        "writer.save() \n",
        "\n",
        "main2.to_csv(path + 'main_hours.csv', index=False)"
      ],
      "execution_count": null,
      "outputs": []
    },
    {
      "cell_type": "code",
      "metadata": {
        "id": "JT5Jdk1tvVk7",
        "cellView": "form"
      },
      "source": [
        "#@title Total Hours Worked Per Week and Difference of  Rate per Week\n",
        "\n",
        "# Hours worked per week\n",
        "mins_per_week = main2.groupby([main2['date'].dt.isocalendar().week]).mins.sum()\n",
        "hours_per_week = mins_per_week/60\n",
        "\n",
        "# Weekly rate\n",
        "rate = open(path+ 'rate.txt','r')\n",
        "rate = float(rate.read())\n",
        "\n",
        "weekly_rate = rate\n",
        "hourly = weekly_rate / 40 \n",
        "mins_per_week = main2.groupby([main2['date'].dt.isocalendar().week]).mins.sum()\n",
        "hours_per_week = round(mins_per_week / 60,3)\n",
        "hourly_rate_per_week = round(weekly_rate / hours_per_week,3) \n",
        "\n",
        "# Weekly difference from actual rate \n",
        "diff_from_hourly = round(hourly_rate_per_week - hourly,3)\n",
        "\n",
        "# Overtime rate\n",
        "overtime_pay = round((hours_per_week - 40) * (hourly * 1.5),3)\n",
        "\n",
        "hours_df = pd.concat([hours_per_week, hourly_rate_per_week,diff_from_hourly, overtime_pay], axis=1)\n",
        "hours_df.columns = ['hours_worked','hourly_rate_per_week' ,'diff_from_hourly_rate', 'overtime_pay']\n",
        "\n",
        "# if overtime is negative return zero\n",
        "hours_df.loc[(hours_df.overtime_pay < 0), \"overtime_pay\"] = 0\n",
        "\n",
        "hours_df.to_csv(path + 'analyses.csv')\n",
        "hours_df"
      ],
      "execution_count": null,
      "outputs": []
    },
    {
      "cell_type": "code",
      "metadata": {
        "id": "Qe2ebgZR97Fn",
        "cellView": "form"
      },
      "source": [
        "#@title Average Hours Worked { run: \"auto\" }\n",
        "query_by = \"day\" #@param [\"week_num\", \"day\"]\n",
        "def avg_hrs(query_by):\n",
        "    return main2.groupby([query_by]).mins.mean()/60\n",
        "avg_hrs(query_by)\n"
      ],
      "execution_count": null,
      "outputs": []
    },
    {
      "cell_type": "code",
      "metadata": {
        "cellView": "form",
        "id": "hxINs3z1eGWB",
        "colab": {
          "base_uri": "https://localhost:8080/",
          "height": 654
        },
        "outputId": "336563fc-e4ad-4b30-89eb-4f594e25af0a"
      },
      "source": [
        "#@title Visualize\n",
        "axes = hours_df.plot.line(figsize=(12,12), subplots=True);"
      ],
      "execution_count": null,
      "outputs": [
        {
          "output_type": "display_data",
          "data": {
            "image/png": "[encoded data removed]",
            "text/plain": [
              "<Figure size 864x864 with 4 Axes>"
            ]
          },
          "metadata": {
            "needs_background": "light"
          }
        }
      ]
    },
    {
      "cell_type": "code",
      "metadata": {
        "id": "R1WfIH6xJAoe",
        "cellView": "form",
        "colab": {
          "base_uri": "https://localhost:8080/",
          "height": 204
        },
        "outputId": "e13bc168-ffd6-4d86-856f-91ff1c8561c5"
      },
      "source": [
        "#@title View by Week { run: \"auto\" }\n",
        "week_num = \"41\" #@param {type:\"string\"}\n",
        "def mask_week(num):\n",
        "    return main2.query('week_num == @num')\n",
        "\n",
        "mask_week(week_num)"
      ],
      "execution_count": null,
      "outputs": [
        {
          "output_type": "execute_result",
          "data": {
            "text/html": [
              "<div>\n",
              "<style scoped>\n",
              "    .dataframe tbody tr th:only-of-type {\n",
              "        vertical-align: middle;\n",
              "    }\n",
              "\n",
              "    .dataframe tbody tr th {\n",
              "        vertical-align: top;\n",
              "    }\n",
              "\n",
              "    .dataframe thead th {\n",
              "        text-align: right;\n",
              "    }\n",
              "</style>\n",
              "<table border=\"1\" class=\"dataframe\">\n",
              "  <thead>\n",
              "    <tr style=\"text-align: right;\">\n",
              "      <th></th>\n",
              "      <th>day</th>\n",
              "      <th>date</th>\n",
              "      <th>time_in</th>\n",
              "      <th>time_out</th>\n",
              "      <th>duration</th>\n",
              "      <th>mins</th>\n",
              "      <th>day_num</th>\n",
              "      <th>week_num</th>\n",
              "    </tr>\n",
              "  </thead>\n",
              "  <tbody>\n",
              "    <tr>\n",
              "      <th>84</th>\n",
              "      <td>Mon</td>\n",
              "      <td>2021-10-11</td>\n",
              "      <td>7:30:00 AM</td>\n",
              "      <td>4:51:00 PM</td>\n",
              "      <td>9:21:00</td>\n",
              "      <td>561.0</td>\n",
              "      <td>1</td>\n",
              "      <td>41</td>\n",
              "    </tr>\n",
              "    <tr>\n",
              "      <th>85</th>\n",
              "      <td>Tue</td>\n",
              "      <td>2021-10-12</td>\n",
              "      <td>7:30:00 AM</td>\n",
              "      <td>5:40:00 PM</td>\n",
              "      <td>10:10:00</td>\n",
              "      <td>610.0</td>\n",
              "      <td>2</td>\n",
              "      <td>41</td>\n",
              "    </tr>\n",
              "    <tr>\n",
              "      <th>86</th>\n",
              "      <td>Wed</td>\n",
              "      <td>2021-10-13</td>\n",
              "      <td>7:30:00 AM</td>\n",
              "      <td>4:30:00 PM</td>\n",
              "      <td>9:00:00</td>\n",
              "      <td>540.0</td>\n",
              "      <td>3</td>\n",
              "      <td>41</td>\n",
              "    </tr>\n",
              "    <tr>\n",
              "      <th>87</th>\n",
              "      <td>Thu</td>\n",
              "      <td>2021-10-14</td>\n",
              "      <td>7:30:00 AM</td>\n",
              "      <td>4:33:00 PM</td>\n",
              "      <td>9:03:00</td>\n",
              "      <td>543.0</td>\n",
              "      <td>4</td>\n",
              "      <td>41</td>\n",
              "    </tr>\n",
              "    <tr>\n",
              "      <th>88</th>\n",
              "      <td>Fri</td>\n",
              "      <td>2021-10-15</td>\n",
              "      <td>7:30:00 AM</td>\n",
              "      <td>5:26:00 PM</td>\n",
              "      <td>9:56:00</td>\n",
              "      <td>596.0</td>\n",
              "      <td>5</td>\n",
              "      <td>41</td>\n",
              "    </tr>\n",
              "  </tbody>\n",
              "</table>\n",
              "</div>"
            ],
            "text/plain": [
              "    day       date     time_in    time_out  duration   mins  day_num  week_num\n",
              "84  Mon 2021-10-11  7:30:00 AM  4:51:00 PM   9:21:00  561.0        1        41\n",
              "85  Tue 2021-10-12  7:30:00 AM  5:40:00 PM  10:10:00  610.0        2        41\n",
              "86  Wed 2021-10-13  7:30:00 AM  4:30:00 PM   9:00:00  540.0        3        41\n",
              "87  Thu 2021-10-14  7:30:00 AM  4:33:00 PM   9:03:00  543.0        4        41\n",
              "88  Fri 2021-10-15  7:30:00 AM  5:26:00 PM   9:56:00  596.0        5        41"
            ]
          },
          "metadata": {},
          "execution_count": 14
        }
      ]
    },
    {
      "cell_type": "code",
      "metadata": {
        "id": "31XHOOV_FaFz",
        "cellView": "form"
      },
      "source": [
        "#@title View by Day { run: \"auto\" }\n",
        "day_name = \"tue\" #@param {type:\"string\"}\n",
        "def mask_day(day_name):\n",
        "    day_name = day_name.title()[:3]\n",
        "    return main2.query('day == @day_name')\n",
        "\n",
        "mask_day(day_name)"
      ],
      "execution_count": null,
      "outputs": []
    }
  ]
}